{
 "cells": [
  {
   "cell_type": "code",
   "execution_count": null,
   "id": "441407a4",
   "metadata": {},
   "outputs": [],
   "source": [
    "import pandas as pd\n",
    "import os"
   ]
  },
  {
   "cell_type": "code",
   "execution_count": null,
   "id": "014935f2",
   "metadata": {},
   "outputs": [],
   "source": [
    "metadata_path = (os.path.join('../wiki_data/movies_metadata.csv'))\n",
    "ratings_path = (os.path.join('../wiki_data/ratings.csv'))"
   ]
  },
  {
   "cell_type": "code",
   "execution_count": null,
   "id": "1cc6a27e",
   "metadata": {},
   "outputs": [],
   "source": [
    "kaggle_metadata = pd.read_csv(metadata_path, low_memory=False)\n",
    "ratings = pd.read_csv(ratings_path)"
   ]
  },
  {
   "cell_type": "code",
   "execution_count": null,
   "id": "b303a3e3",
   "metadata": {},
   "outputs": [],
   "source": [
    "# (8.3.12) Check the datatypes in the metadata \n",
    "kaggle_metadata.dtypes"
   ]
  },
  {
   "cell_type": "code",
   "execution_count": null,
   "id": "677939a2",
   "metadata": {},
   "outputs": [],
   "source": [
    "# (8.3.12) Remove bad data \n",
    "#Check the Adult column:\n",
    "kaggle_metadata['adult'].value_counts()"
   ]
  },
  {
   "cell_type": "code",
   "execution_count": null,
   "id": "ce075826",
   "metadata": {},
   "outputs": [],
   "source": [
    "kaggle_metadata[~kaggle_metadata['adult'].isin(['True','False'])]"
   ]
  },
  {
   "cell_type": "code",
   "execution_count": null,
   "id": "d098ae5c",
   "metadata": {},
   "outputs": [],
   "source": [
    "# Drop the adult column\n",
    "kaggle_metadata = kaggle_metadata[kaggle_metadata['adult'] == 'False'].drop('adult',axis='columns')"
   ]
  },
  {
   "cell_type": "code",
   "execution_count": null,
   "id": "be959ac2",
   "metadata": {},
   "outputs": [],
   "source": [
    "# Review the Video column\n",
    "kaggle_metadata['video'].value_counts()"
   ]
  },
  {
   "cell_type": "code",
   "execution_count": null,
   "id": "4468de9f",
   "metadata": {},
   "outputs": [],
   "source": [
    "# convert the datatypes in the 'video' column\n",
    "kaggle_metadata['video'] = kaggle_metadata['video'] == 'True'"
   ]
  },
  {
   "cell_type": "code",
   "execution_count": null,
   "id": "579a379f",
   "metadata": {},
   "outputs": [],
   "source": [
    "# convert budget, id and popularity columns to numeric\n",
    "kaggle_metadata['budget'] = kaggle_metadata['budget'].astype(int)\n",
    "kaggle_metadata['id'] = pd.to_numeric(kaggle_metadata['id'], errors='raise')\n",
    "kaggle_metadata['popularity'] = pd.to_numeric(kaggle_metadata['popularity'], errors='raise')\n",
    "# convert release date to datetime\n",
    "kaggle_metadata['release_date'] = pd.to_datetime(kaggle_metadata['release_date'])"
   ]
  },
  {
   "cell_type": "code",
   "execution_count": null,
   "id": "a80762de",
   "metadata": {},
   "outputs": [],
   "source": [
    "# Check the ratings data\n",
    "ratings.info(null_counts=True)"
   ]
  },
  {
   "cell_type": "code",
   "execution_count": null,
   "id": "a491cb80",
   "metadata": {},
   "outputs": [],
   "source": [
    "# convert the timestamp to unix\n",
    "pd.to_datetime(ratings['timestamp'], unit='s')"
   ]
  },
  {
   "cell_type": "code",
   "execution_count": null,
   "id": "936b2a22",
   "metadata": {},
   "outputs": [],
   "source": [
    "# Assign the unix times to the 'timestamp' column\n",
    "ratings['timestamp'] = pd.to_datetime(ratings['timestamp'], unit='s')"
   ]
  },
  {
   "cell_type": "code",
   "execution_count": null,
   "id": "92509b4f",
   "metadata": {},
   "outputs": [],
   "source": [
    "# create a histogram to look at the ratings stats\n",
    "pd.options.display.float_format = '{:20,.2f}'.format\n",
    "ratings['rating'].plot(kind='hist')\n",
    "ratings['rating'].describe()"
   ]
  },
  {
   "cell_type": "code",
   "execution_count": null,
   "id": "1c0fc84f",
   "metadata": {},
   "outputs": [],
   "source": [
    "# (8.4.1) Look for redundant columns\n",
    "#movies_df = pd.merge(wiki_movies_df, kaggle_metadata, on='imdb_id', suffixes=['_wiki','_kaggle'])"
   ]
  },
  {
   "cell_type": "code",
   "execution_count": null,
   "id": "c5f1a79a",
   "metadata": {},
   "outputs": [],
   "source": []
  }
 ],
 "metadata": {
  "kernelspec": {
   "display_name": "PythonData",
   "language": "python",
   "name": "pythondata"
  },
  "language_info": {
   "codemirror_mode": {
    "name": "ipython",
    "version": 3
   },
   "file_extension": ".py",
   "mimetype": "text/x-python",
   "name": "python",
   "nbconvert_exporter": "python",
   "pygments_lexer": "ipython3",
   "version": "3.8.8"
  }
 },
 "nbformat": 4,
 "nbformat_minor": 5
}
